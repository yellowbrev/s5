{
 "cells": [
  {
   "cell_type": "markdown",
   "metadata": {},
   "source": [
    "Write programs in Python using NumPy library to do the following:\n",
    "\n",
    "a. Compute the mean, standard deviation, and variance of a two dimensional random integer array\n",
    "along the second axis.\n",
    "\n",
    "b. Get the indices of the sorted elements of a given array.\n",
    "    B = [56, 48, 22, 41, 78, 91, 24, 46, 8, 33]\n",
    "\n",
    "c. Create a 2-dimensional array of size m x n integer elements, also print the shape, type and data\n",
    "type of the array and then reshape it into nx m array, n and m are user inputs given at the run time.\n",
    "\n",
    "d. Test whether the elements of a given array are zero, non-zero and NaN. Record the indices of\n",
    "these elements in three separate arrays."
   ]
  },
  {
   "cell_type": "code",
   "execution_count": 15,
   "metadata": {},
   "outputs": [
    {
     "name": "stdout",
     "output_type": "stream",
     "text": [
      "[[ 0 16  7 18 11]\n",
      " [17 18  3 19  6]\n",
      " [10 11 10  5  6]\n",
      " [ 3 12 11 10  5]]\n",
      "Mean : [10.4 12.6  8.4  8.2]\n",
      "Standar Deviation is: [6.46838465 6.71118469 2.41660919 3.54400903]\n",
      "Variance: [41.84 45.04  5.84 12.56]\n"
     ]
    }
   ],
   "source": [
    "#part-a\n",
    "\n",
    "import numpy as np\n",
    "data = np.random.randint(20,size=(4,5))\n",
    "print(data)\n",
    "\n",
    "\n",
    "#axis=1 will compute mean/std/var along each inner list i.e row\n",
    "mean_data=np.mean(data,axis=1)\n",
    "print(\"Mean :\",mean_data)\n",
    "\n",
    "standard_deviation=np.std(data,axis=1)\n",
    "print(\"Standar Deviation is:\",standard_deviation)\n",
    "\n",
    "variance=np.var(data,axis=1)\n",
    "print(\"Variance:\",variance)\n",
    "\n"
   ]
  },
  {
   "cell_type": "code",
   "execution_count": 21,
   "metadata": {},
   "outputs": [
    {
     "name": "stdout",
     "output_type": "stream",
     "text": [
      "Output sorted array indices : [8 2 6 9 3 7 1 0 4 5]\n",
      "Output sorted array :  [ 8 22 24 33 41 46 48 56 78 91]\n"
     ]
    }
   ],
   "source": [
    "# part-b\n",
    "\n",
    "array1=np.array([56, 48, 22, 41, 78, 91, 24, 46, 8, 33])\n",
    "\n",
    "# argsort will sort the array\n",
    "# and give index of element in array instead of its value.\n",
    "sorted_array=np.argsort(array1)\n",
    "print(\"Output sorted array indices :\",sorted_array)\n",
    "\n",
    "# We pass sorted index in original array (Fancy Indexing)\n",
    "print(\"Output sorted array : \",array1[sorted_array])"
   ]
  },
  {
   "cell_type": "code",
   "execution_count": 24,
   "metadata": {},
   "outputs": [
    {
     "name": "stdout",
     "output_type": "stream",
     "text": [
      "[[0. 0. 0. 0.]\n",
      " [0. 0. 0. 0.]\n",
      " [0. 0. 0. 0.]\n",
      " [0. 0. 0. 0.]\n",
      " [0. 0. 0. 0.]]\n",
      "Shape: (5, 4)\n",
      "Data Type float64\n",
      "Type: <class 'numpy.ndarray'>\n",
      "Reshape array:\n",
      "[[0. 0. 0. 0. 0.]\n",
      " [0. 0. 0. 0. 0.]\n",
      " [0. 0. 0. 0. 0.]\n",
      " [0. 0. 0. 0. 0.]]\n"
     ]
    }
   ],
   "source": [
    "# part-c\n",
    "import numpy as np\n",
    "m=int(input(\"Enter n:\"))\n",
    "n=int(input(\"Enter m:\"))\n",
    "array1=np.zeros((m,n))\n",
    "\n",
    "print(array1)\n",
    "print(\"Shape:\",array1.shape)\n",
    "print(\"Data Type\",array1.dtype)\n",
    "print(\"Type:\",type(array1))\n",
    "\n",
    "print(\"Reshape array:\")\n",
    "print(array1.reshape(n,m)) "
   ]
  },
  {
   "cell_type": "code",
   "execution_count": 41,
   "metadata": {},
   "outputs": [
    {
     "name": "stdout",
     "output_type": "stream",
     "text": [
      "The array is: [ 0.  1.  2. nan  3.  0.  4. nan  5.]\n",
      "\n",
      "The elements that are zero are :  [ True False False False False  True False False False]\n",
      "The elements that are non-zero are :  [False  True  True  True  True False  True  True  True]\n",
      "The elements that are NaN are :  [False False False  True False False False  True False]\n",
      "\n",
      "The indices of the elements that are zero are :  [0 5]\n",
      "The indices of the elements that are non-zero are :  [1 2 3 4 6 7 8]\n",
      "The indices of the elements that are NaN are :  [3 7]\n"
     ]
    }
   ],
   "source": [
    "# part d\n",
    "import numpy as np\n",
    "\n",
    "arr = np.array([0, 1, 2, np.nan, 3, 0, 4, np.nan, 5])\n",
    "print(\"The array is:\",arr)\n",
    "\n",
    "zero = arr==0\n",
    "nonzero = arr!=0\n",
    "nan = np.isnan(arr)\n",
    "\n",
    "print()\n",
    "print(\"The elements that are zero are : \",zero)\n",
    "print(\"The elements that are non-zero are : \",nonzero)\n",
    "print(\"The elements that are NaN are : \",nan)\n",
    "\n",
    "# where function return the indices of element which are true\n",
    "zero_indices = np.where(arr)[0]\n",
    "nonzero_indices = np.where(nonzero)[0]\n",
    "nan_indices = np.where(nan)[0]\n",
    "\n",
    "print()\n",
    "print(\"The indices of the elements that are zero are : \",zero_indices)\n",
    "print(\"The indices of the elements that are non-zero are : \",nonzero_indices)\n",
    "print(\"The indices of the elements that are NaN are : \",nan_indices)\n"
   ]
  }
 ],
 "metadata": {
  "kernelspec": {
   "display_name": "Python 3",
   "language": "python",
   "name": "python3"
  },
  "language_info": {
   "codemirror_mode": {
    "name": "ipython",
    "version": 3
   },
   "file_extension": ".py",
   "mimetype": "text/x-python",
   "name": "python",
   "nbconvert_exporter": "python",
   "pygments_lexer": "ipython3",
   "version": "3.10.11"
  },
  "orig_nbformat": 4
 },
 "nbformat": 4,
 "nbformat_minor": 2
}
